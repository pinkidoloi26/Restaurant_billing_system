{
 "cells": [
  {
   "cell_type": "code",
   "execution_count": 7,
   "metadata": {},
   "outputs": [
    {
     "ename": "SyntaxError",
     "evalue": "invalid syntax (<ipython-input-7-2413c6ecfcfc>, line 58)",
     "output_type": "error",
     "traceback": [
      "\u001b[1;36m  File \u001b[1;32m\"<ipython-input-7-2413c6ecfcfc>\"\u001b[1;36m, line \u001b[1;32m58\u001b[0m\n\u001b[1;33m    selection1=='Chowmein':\u001b[0m\n\u001b[1;37m                           ^\u001b[0m\n\u001b[1;31mSyntaxError\u001b[0m\u001b[1;31m:\u001b[0m invalid syntax\n"
     ]
    }
   ],
   "source": [
    "def mainMenu():\n",
    "    print(\"welcome to the restaurant \\n\\t\")\n",
    "    print(\"what do you want to have? \\n\\t\")\n",
    "    selection=input(\"enter y or n or order_again \\n\\t\")\n",
    "    if selection=='y':\n",
    "        return menuItem()\n",
    "    elif selection=='n':\n",
    "        print(\"thank you \\n\\t\")\n",
    "    elif selection=='order_again':\n",
    "        return menuItem()\n",
    "    else:\n",
    "        print(\"Invalid option.Enter the above choice \\n\\t\")\n",
    "        return mainMenu()\n",
    "print(mainMenu())\n",
    "def menuItem():\n",
    "    print(\"welcome to the menu section of the restaurant \\n\\t\")\n",
    "    print(\"what do you want to have?\\n\\t\")\n",
    "    print(\"Beverages\\n\\t Rates:\\t\\n\\n 1.Tea\\n\\tRs.8\\t\\n 2.Coffee\\n\\tRs.10\\n 3.Water\\n\\tRs.10\\t\\n\")\n",
    "    print(\"Snacks\\n\\t Rates:\\t\\n\\n 1.Frenchfries\\n\\tRs.100\\t\\n 2.Honeychilli_potato\\n\\tRs.100\\n 3.ChickenDrumsSticks\\n\\tRs.200\\t\\n 4.Momo\\n\\tRs.80\\t\\n 5.Chowmein\\n\\tRs.60\\t\\n\")\n",
    "    selection1=input(\"enter your item:\\n\\t\")\n",
    "    number=int(input(\"enter the qty. of the item:\\n\\t\"))\n",
    "    print(\"are you done?\")\n",
    "    while True:\n",
    "        try:\n",
    "            selection1=input(\"enter y or n \\t\")\n",
    "            if selection1=='y':\n",
    "                return menuBilling()\n",
    "            elif selection=='n':\n",
    "                return menuItem()\n",
    "            else:\n",
    "                print(\"Invalid option.Enter the item \\t\")\n",
    "                return menuItem()\n",
    "        except ValueError:\n",
    "            print(\"Invalid choice.enter the above items \\t\")\n",
    "print(menuItem())\n",
    "def menuBilling(selection1,number):\n",
    "    selection1=[]\n",
    "    number=[]\n",
    "    bill_rate=[]\n",
    "    total_bill=0\n",
    "    \n",
    "    for i in range(selection1):\n",
    "        if selection1=='tea':\n",
    "            return number*8\n",
    "        elif selection1=='coffee':\n",
    "            return number*10\n",
    "        elif selection1=='water':\n",
    "            return number*10\n",
    "        elif selection1=='Frenchfries':\n",
    "            return number*100\n",
    "        elif selection1=='Honeychilli_potato':\n",
    "            return number*100\n",
    "        elif selection1=='ChickenDrumsSticks':\n",
    "            return number*200\n",
    "        elif selection1=='Momo':\n",
    "            return number*80\n",
    "        else:\n",
    "            selection1=='Chowmein':\n",
    "            return number*60\n",
    "    bill=total_bill+selection1\n",    #some calculation error
    "    return bill\n",
    "\n",
    "user_input3=input()\n",
    "print(\"do you want to place an order?\")\n",
    "\n",
    "if user_input3=='y':\n",
    "    return mainMenu()\n",
    "else:\n",
    "    print(\"thank you\")"
   ]
  }
 ],
 "metadata": {
  "kernelspec": {
   "display_name": "Python 3",
   "language": "python",
   "name": "python3"
  },
  "language_info": {
   "codemirror_mode": {
    "name": "ipython",
    "version": 3
   },
   "file_extension": ".py",
   "mimetype": "text/x-python",
   "name": "python",
   "nbconvert_exporter": "python",
   "pygments_lexer": "ipython3",
   "version": "3.6.3"
  }
 },
 "nbformat": 4,
 "nbformat_minor": 2
}
